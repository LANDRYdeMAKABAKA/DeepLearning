{
 "cells": [
  {
   "cell_type": "markdown",
   "metadata": {},
   "source": [
    "## 准备数据"
   ]
  },
  {
   "cell_type": "code",
   "execution_count": 1,
   "metadata": {},
   "outputs": [
    {
     "name": "stdout",
     "output_type": "stream",
     "text": [
      "WARNING:tensorflow:From d:\\Python\\Lib\\site-packages\\keras\\src\\losses.py:2976: The name tf.losses.sparse_softmax_cross_entropy is deprecated. Please use tf.compat.v1.losses.sparse_softmax_cross_entropy instead.\n",
      "\n"
     ]
    }
   ],
   "source": [
    "import os\n",
    "import numpy as np\n",
    "import tensorflow as tf\n",
    "from tensorflow import keras\n",
    "from tensorflow.keras import layers, optimizers, datasets\n",
    "\n",
    "os.environ['TF_CPP_MIN_LOG_LEVEL'] = '2'  # or any {'0', '1', '2'}\n",
    "\n",
    "def mnist_dataset():\n",
    "    (x, y), (x_test, y_test) = datasets.mnist.load_data()\n",
    "    #normalize\n",
    "    x = x/255.0\n",
    "    x_test = x_test/255.0\n",
    "    \n",
    "    return (x, y), (x_test, y_test)"
   ]
  },
  {
   "cell_type": "code",
   "execution_count": 2,
   "metadata": {},
   "outputs": [
    {
     "name": "stdout",
     "output_type": "stream",
     "text": [
      "[(1, 'a'), (2, 'b'), (3, 'c'), (4, 'd')]\n"
     ]
    }
   ],
   "source": [
    "print(list(zip([1, 2, 3, 4], ['a', 'b', 'c', 'd'])))"
   ]
  },
  {
   "cell_type": "markdown",
   "metadata": {},
   "source": [
    "## 建立模型"
   ]
  },
  {
   "cell_type": "code",
   "execution_count": 6,
   "metadata": {},
   "outputs": [],
   "source": [
    "class myModel:\n",
    "    def __init__(self):\n",
    "        ####################\n",
    "        '''声明模型对应的参数'''\n",
    "        ####################\n",
    "        self.W1 = tf.Variable(tf.random.normal([784, 256]), name='W1')\n",
    "        self.b1 = tf.Variable(tf.zeros([256]), name='b1')\n",
    "        self.W2 = tf.Variable(tf.random.normal([256, 10]), name='W2')\n",
    "        self.b2 = tf.Variable(tf.zeros([10]), name='b2')\n",
    "    def __call__(self, x):\n",
    "        ####################\n",
    "        '''实现模型函数体，返回未归一化的logits'''\n",
    "        ####################\n",
    "        x = tf.reshape(x, [-1, 784])\n",
    "        h = tf.nn.relu(tf.matmul(x, self.W1) + self.b1)\n",
    "        logits = tf.matmul(h, self.W2) + self.b2\n",
    "        return logits\n",
    "        \n",
    "model = myModel()\n",
    "\n",
    "optimizer = optimizers.Adam()"
   ]
  },
  {
   "cell_type": "markdown",
   "metadata": {},
   "source": [
    "## 计算 loss"
   ]
  },
  {
   "cell_type": "code",
   "execution_count": 15,
   "metadata": {},
   "outputs": [],
   "source": [
    "@tf.function\n",
    "def compute_loss(logits, labels):\n",
    "    return tf.reduce_mean(\n",
    "        tf.nn.sparse_softmax_cross_entropy_with_logits(\n",
    "            logits=logits, labels=labels))\n",
    "\n",
    "@tf.function\n",
    "def compute_accuracy(logits, labels):\n",
    "    predictions = tf.argmax(logits, axis=1)\n",
    "    return tf.reduce_mean(tf.cast(tf.equal(predictions, labels), tf.float32))\n",
    "\n",
    "@tf.function\n",
    "def train_one_step(model, optimizer, x, y):\n",
    "    with tf.GradientTape() as tape:\n",
    "        logits = model(x)\n",
    "        loss = compute_loss(logits, y)\n",
    "\n",
    "    # compute gradient\n",
    "    trainable_vars = [model.W1, model.W2, model.b1, model.b2]\n",
    "    grads = tape.gradient(loss, trainable_vars)\n",
    "    for g, v in zip(grads, trainable_vars):\n",
    "        v.assign_sub(0.01*g)\n",
    "\n",
    "    accuracy = compute_accuracy(logits, y)\n",
    "\n",
    "    # loss and accuracy is scalar tensor\n",
    "    return loss, accuracy\n",
    "\n",
    "@tf.function\n",
    "def test(model, x, y):\n",
    "    logits = model(x)\n",
    "    loss = compute_loss(logits, y)\n",
    "    accuracy = compute_accuracy(logits, y)\n",
    "    return loss, accuracy"
   ]
  },
  {
   "cell_type": "markdown",
   "metadata": {},
   "source": [
    "## 实际训练"
   ]
  },
  {
   "cell_type": "code",
   "execution_count": 16,
   "metadata": {},
   "outputs": [
    {
     "name": "stdout",
     "output_type": "stream",
     "text": [
      "epoch 0 : loss 7.4839125 ; accuracy 0.81145\n",
      "epoch 1 : loss 7.478818 ; accuracy 0.81151664\n",
      "epoch 2 : loss 7.473734 ; accuracy 0.81155\n",
      "epoch 3 : loss 7.4686604 ; accuracy 0.81156665\n",
      "epoch 4 : loss 7.463597 ; accuracy 0.81163335\n",
      "epoch 5 : loss 7.458544 ; accuracy 0.8117333\n",
      "epoch 6 : loss 7.4535007 ; accuracy 0.8118167\n",
      "epoch 7 : loss 7.4484677 ; accuracy 0.8119\n",
      "epoch 8 : loss 7.4434443 ; accuracy 0.812\n",
      "epoch 9 : loss 7.4384303 ; accuracy 0.8121\n",
      "epoch 10 : loss 7.4334254 ; accuracy 0.8121833\n",
      "epoch 11 : loss 7.4284296 ; accuracy 0.81233335\n",
      "epoch 12 : loss 7.4234443 ; accuracy 0.8124\n",
      "epoch 13 : loss 7.418469 ; accuracy 0.8124667\n",
      "epoch 14 : loss 7.413503 ; accuracy 0.8125167\n",
      "epoch 15 : loss 7.408546 ; accuracy 0.81256664\n",
      "epoch 16 : loss 7.4035993 ; accuracy 0.81268334\n",
      "epoch 17 : loss 7.398663 ; accuracy 0.8127667\n",
      "epoch 18 : loss 7.393736 ; accuracy 0.8129333\n",
      "epoch 19 : loss 7.3888187 ; accuracy 0.81303334\n",
      "epoch 20 : loss 7.3839116 ; accuracy 0.8131\n",
      "epoch 21 : loss 7.379013 ; accuracy 0.8131667\n",
      "epoch 22 : loss 7.374124 ; accuracy 0.8132833\n",
      "epoch 23 : loss 7.3692436 ; accuracy 0.8134\n",
      "epoch 24 : loss 7.3643727 ; accuracy 0.8135\n",
      "epoch 25 : loss 7.359511 ; accuracy 0.81371665\n",
      "epoch 26 : loss 7.3546596 ; accuracy 0.81381667\n",
      "epoch 27 : loss 7.349818 ; accuracy 0.8138667\n",
      "epoch 28 : loss 7.3449855 ; accuracy 0.8139167\n",
      "epoch 29 : loss 7.3401623 ; accuracy 0.8139833\n",
      "epoch 30 : loss 7.3353496 ; accuracy 0.81408334\n",
      "epoch 31 : loss 7.3305454 ; accuracy 0.8142\n",
      "epoch 32 : loss 7.32575 ; accuracy 0.8143\n",
      "epoch 33 : loss 7.320964 ; accuracy 0.8144\n",
      "epoch 34 : loss 7.316188 ; accuracy 0.81448334\n",
      "epoch 35 : loss 7.311422 ; accuracy 0.81453335\n",
      "epoch 36 : loss 7.3066654 ; accuracy 0.8146\n",
      "epoch 37 : loss 7.301919 ; accuracy 0.8147333\n",
      "epoch 38 : loss 7.297181 ; accuracy 0.81485\n",
      "epoch 39 : loss 7.2924542 ; accuracy 0.8149\n",
      "epoch 40 : loss 7.2877355 ; accuracy 0.8149167\n",
      "epoch 41 : loss 7.283026 ; accuracy 0.8150667\n",
      "epoch 42 : loss 7.2783256 ; accuracy 0.81515\n",
      "epoch 43 : loss 7.273635 ; accuracy 0.81518334\n",
      "epoch 44 : loss 7.2689533 ; accuracy 0.81525\n",
      "epoch 45 : loss 7.2642803 ; accuracy 0.8153\n",
      "epoch 46 : loss 7.2596173 ; accuracy 0.8153167\n",
      "epoch 47 : loss 7.2549634 ; accuracy 0.8153167\n",
      "epoch 48 : loss 7.2503176 ; accuracy 0.8154333\n",
      "epoch 49 : loss 7.2456813 ; accuracy 0.81555\n",
      "test loss 6.891901 ; accuracy 0.8218\n"
     ]
    }
   ],
   "source": [
    "train_data, test_data = mnist_dataset()\n",
    "for epoch in range(50):\n",
    "    loss, accuracy = train_one_step(model, optimizer, \n",
    "                                    tf.constant(train_data[0], dtype=tf.float32), \n",
    "                                    tf.constant(train_data[1], dtype=tf.int64))\n",
    "    print('epoch', epoch, ': loss', loss.numpy(), '; accuracy', accuracy.numpy())\n",
    "loss, accuracy = test(model, \n",
    "                      tf.constant(test_data[0], dtype=tf.float32), \n",
    "                      tf.constant(test_data[1], dtype=tf.int64))\n",
    "\n",
    "print('test loss', loss.numpy(), '; accuracy', accuracy.numpy())"
   ]
  }
 ],
 "metadata": {
  "kernelspec": {
   "display_name": "Python 3",
   "language": "python",
   "name": "python3"
  },
  "language_info": {
   "codemirror_mode": {
    "name": "ipython",
    "version": 3
   },
   "file_extension": ".py",
   "mimetype": "text/x-python",
   "name": "python",
   "nbconvert_exporter": "python",
   "pygments_lexer": "ipython3",
   "version": "3.11.2"
  }
 },
 "nbformat": 4,
 "nbformat_minor": 2
}
